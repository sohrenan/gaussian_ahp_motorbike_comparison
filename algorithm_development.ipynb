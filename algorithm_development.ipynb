{
 "cells": [
  {
   "cell_type": "code",
   "execution_count": 5,
   "id": "7168c18a-77a5-4017-ba9e-20b80a453392",
   "metadata": {},
   "outputs": [],
   "source": [
    "import pandas as pd\n",
    "from mcdm.ahp import AHPGaussiano\n",
    "#!pip install git+https://github.com/MarioLisboaJr/multiple_criteria_decision.git"
   ]
  },
  {
   "cell_type": "code",
   "execution_count": 154,
   "id": "101a5ff6-ab0a-4dca-bc67-f95eae86eeda",
   "metadata": {},
   "outputs": [
    {
     "data": {
      "text/html": [
       "<div>\n",
       "<style scoped>\n",
       "    .dataframe tbody tr th:only-of-type {\n",
       "        vertical-align: middle;\n",
       "    }\n",
       "\n",
       "    .dataframe tbody tr th {\n",
       "        vertical-align: top;\n",
       "    }\n",
       "\n",
       "    .dataframe thead th {\n",
       "        text-align: right;\n",
       "    }\n",
       "</style>\n",
       "<table border=\"1\" class=\"dataframe\">\n",
       "  <thead>\n",
       "    <tr style=\"text-align: right;\">\n",
       "      <th></th>\n",
       "      <th>modelo</th>\n",
       "      <th>cilindrada</th>\n",
       "      <th>potencia</th>\n",
       "      <th>torque</th>\n",
       "      <th>consumo</th>\n",
       "      <th>peso</th>\n",
       "      <th>tanque</th>\n",
       "    </tr>\n",
       "  </thead>\n",
       "  <tbody>\n",
       "    <tr>\n",
       "      <th>0</th>\n",
       "      <td>ninja_400</td>\n",
       "      <td>321</td>\n",
       "      <td>42</td>\n",
       "      <td>3.0</td>\n",
       "      <td>28</td>\n",
       "      <td>171</td>\n",
       "      <td>14.2</td>\n",
       "    </tr>\n",
       "    <tr>\n",
       "      <th>1</th>\n",
       "      <td>r3</td>\n",
       "      <td>399</td>\n",
       "      <td>48</td>\n",
       "      <td>3.9</td>\n",
       "      <td>22</td>\n",
       "      <td>168</td>\n",
       "      <td>14.0</td>\n",
       "    </tr>\n",
       "  </tbody>\n",
       "</table>\n",
       "</div>"
      ],
      "text/plain": [
       "      modelo  cilindrada  potencia  torque  consumo  peso  tanque\n",
       "0  ninja_400         321        42     3.0       28   171    14.2\n",
       "1         r3         399        48     3.9       22   168    14.0"
      ]
     },
     "execution_count": 154,
     "metadata": {},
     "output_type": "execute_result"
    }
   ],
   "source": [
    "df = pd.read_csv('bike_stats.csv')\n",
    "df"
   ]
  },
  {
   "cell_type": "code",
   "execution_count": 126,
   "id": "05dabb24-d5a3-431e-900d-e95ac1520807",
   "metadata": {},
   "outputs": [
    {
     "name": "stdin",
     "output_type": "stream",
     "text": [
      "modelo 1 ninja_400\n",
      "modelo 2 r3\n"
     ]
    }
   ],
   "source": [
    "modelo_1 = str(input('modelo 1'))\n",
    "modelo_2 = str(input('modelo 2'))\n"
   ]
  },
  {
   "cell_type": "code",
   "execution_count": 155,
   "id": "b735260e-99a5-4e7d-86fb-1acd117e5430",
   "metadata": {},
   "outputs": [
    {
     "data": {
      "text/plain": [
       "321"
      ]
     },
     "execution_count": 155,
     "metadata": {},
     "output_type": "execute_result"
    }
   ],
   "source": [
    "df[(df['modelo']==modelo_1)]['cilindrada'].values[0]"
   ]
  },
  {
   "cell_type": "code",
   "execution_count": 156,
   "id": "f68e8825-e39d-4436-a2f7-087d8f09c27f",
   "metadata": {},
   "outputs": [],
   "source": [
    "cilindrada_1 = float(df[(df['modelo']==modelo_1)]['cilindrada'].values[0])\n",
    "potencia_1 = float(df[(df['modelo']==modelo_1)]['potencia'].values[0])\n",
    "torque_1 = float(df[(df['modelo']==modelo_1)]['torque'].values[0])\n",
    "consumo_1 = float(df[(df['modelo']==modelo_1)]['consumo'].values[0])\n",
    "peso_1 = float(df[(df['modelo']==modelo_1)]['peso'].values[0])\n",
    "tanque_1 = float(df[(df['modelo']==modelo_1)]['tanque'].values[0])\n",
    "\n",
    "cilindrada_2 = float(df[(df['modelo']==modelo_2)]['cilindrada'].values[0])\n",
    "potencia_2 = float(df[(df['modelo']==modelo_2)]['potencia'].values[0])\n",
    "torque_2 = float(df[(df['modelo']==modelo_2)]['torque'].values[0])\n",
    "consumo_2 = float(df[(df['modelo']==modelo_2)]['consumo'].values[0])\n",
    "peso_2 = float(df[(df['modelo']==modelo_2)]['peso'].values[0])\n",
    "tanque_2 = float(df[(df['modelo']==modelo_2)]['tanque'].values[0])"
   ]
  },
  {
   "cell_type": "code",
   "execution_count": 158,
   "id": "0978f31b-a12a-48cf-b794-dcd1d9d174d5",
   "metadata": {},
   "outputs": [
    {
     "data": {
      "text/plain": [
       "3.0"
      ]
     },
     "execution_count": 158,
     "metadata": {},
     "output_type": "execute_result"
    }
   ],
   "source": [
    "torque_1"
   ]
  },
  {
   "cell_type": "code",
   "execution_count": 159,
   "id": "68d6dc34-8ad8-480d-9381-dce0094b911b",
   "metadata": {},
   "outputs": [
    {
     "name": "stdin",
     "output_type": "stream",
     "text": [
      "Preço da primeira opção:  40000\n",
      "Preço da segunda opção:  36000\n"
     ]
    }
   ],
   "source": [
    "criterios = df.drop('modelo',axis=1).columns.tolist()\n",
    "alternativas = df['modelo'].tolist()\n",
    "dados = [\n",
    "    [cilindrada_1, potencia_1, torque_1, consumo_1, peso_1, tanque_1],\n",
    "    [cilindrada_2, potencia_2, torque_2, consumo_2, peso_2, tanque_2]\n",
    "]\n",
    "\n",
    "preco_1 = float(input('Preço da primeira opção: '))\n",
    "preco_2 = float(input('Preço da segunda opção: ')) \n",
    "\n",
    "criterio = 'preco'\n",
    "\n",
    "criterios.append(criterio)\n",
    "\n",
    "# Append the prices to the respective alternatives\n",
    "dados[0].append(preco_1)\n",
    "dados[1].append(preco_2)"
   ]
  },
  {
   "cell_type": "code",
   "execution_count": 160,
   "id": "a9ca19cf-321b-4506-8eda-72287f470bfe",
   "metadata": {},
   "outputs": [],
   "source": [
    "matriz_decisao = pd.DataFrame(dados, columns=criterios, index=alternativas)"
   ]
  },
  {
   "cell_type": "code",
   "execution_count": 161,
   "id": "2b83d3e6-5b3b-4ec2-8757-ac4a514a315d",
   "metadata": {},
   "outputs": [
    {
     "data": {
      "text/html": [
       "<div>\n",
       "<style scoped>\n",
       "    .dataframe tbody tr th:only-of-type {\n",
       "        vertical-align: middle;\n",
       "    }\n",
       "\n",
       "    .dataframe tbody tr th {\n",
       "        vertical-align: top;\n",
       "    }\n",
       "\n",
       "    .dataframe thead th {\n",
       "        text-align: right;\n",
       "    }\n",
       "</style>\n",
       "<table border=\"1\" class=\"dataframe\">\n",
       "  <thead>\n",
       "    <tr style=\"text-align: right;\">\n",
       "      <th></th>\n",
       "      <th>Ranking</th>\n",
       "      <th>Pontuacao</th>\n",
       "    </tr>\n",
       "  </thead>\n",
       "  <tbody>\n",
       "    <tr>\n",
       "      <th>r3</th>\n",
       "      <td>1</td>\n",
       "      <td>0.521695</td>\n",
       "    </tr>\n",
       "    <tr>\n",
       "      <th>ninja_400</th>\n",
       "      <td>2</td>\n",
       "      <td>0.478305</td>\n",
       "    </tr>\n",
       "  </tbody>\n",
       "</table>\n",
       "</div>"
      ],
      "text/plain": [
       "           Ranking  Pontuacao\n",
       "r3               1   0.521695\n",
       "ninja_400        2   0.478305"
      ]
     },
     "execution_count": 161,
     "metadata": {},
     "output_type": "execute_result"
    }
   ],
   "source": [
    "matriz_decisao\n",
    "minimizar_criterio = ['preco']\n",
    "ahp_gaussiano = AHPGaussiano(matriz_decisao, minimizar_criterio)\n",
    "escolha_ahp_gaussiano = ahp_gaussiano.preferencia_global()\n",
    "escolha_ahp_gaussiano"
   ]
  }
 ],
 "metadata": {
  "kernelspec": {
   "display_name": "Python 3 (ipykernel)",
   "language": "python",
   "name": "python3"
  },
  "language_info": {
   "codemirror_mode": {
    "name": "ipython",
    "version": 3
   },
   "file_extension": ".py",
   "mimetype": "text/x-python",
   "name": "python",
   "nbconvert_exporter": "python",
   "pygments_lexer": "ipython3",
   "version": "3.10.13"
  }
 },
 "nbformat": 4,
 "nbformat_minor": 5
}
